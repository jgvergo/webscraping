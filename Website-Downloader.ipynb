{
 "cells": [
  {
   "cell_type": "code",
   "execution_count": null,
   "metadata": {
    "collapsed": true
   },
   "outputs": [],
   "source": [
    "import scrapy\n",
    "from scrapy.crawler import CrawlerProcess\n",
    "from scrapy.spiders import CrawlSpider, Rule\n",
    "from scrapy.utils.project import get_project_settings\n",
    "import nltk\n",
    "from scrapy.linkextractors import LinkExtractor\n",
    "import os\n",
    "from cleantext import cleantext\n",
    "import logging"
   ]
  },
  {
   "cell_type": "code",
   "execution_count": null,
   "metadata": {
    "collapsed": true
   },
   "outputs": [],
   "source": [
    "#https://www.exoplatform.com\n",
    "class CompanySpider(CrawlSpider):\n",
    "    name = \"company_spider\"\n",
    "    allowed_domains = [\"exoplatform.com\"]\n",
    "    start_urls = ['https://www.exoplatform.com']\n",
    "    rules = [Rule(LinkExtractor(allow = ('https://www.exoplatform.com/*')), callback = 'parse_item', follow = True)]\n",
    "    def parse_item(self, response):\n",
    "        stems, lemmas = cleantext(response.text)\n",
    "        thefile = open('exoplatform.csv', 'a')\n",
    "        for sentence in stems:\n",
    "            thefile.write(\"%s\\n\" % sentence)\n",
    "        thefile.close()"
   ]
  },
  {
   "cell_type": "code",
   "execution_count": null,
   "metadata": {
    "collapsed": true
   },
   "outputs": [],
   "source": [
    "if os.path.exists(\"exoplatform.csv\"):\n",
    "    os.remove(\"exoplatform.csv\")\n",
    "logging.getLogger('scrapy').propagate = False"
   ]
  },
  {
   "cell_type": "code",
   "execution_count": null,
   "metadata": {
    "collapsed": true
   },
   "outputs": [],
   "source": [
    "process = CrawlerProcess(get_project_settings())\n",
    "process.crawl(CompanySpider)"
   ]
  },
  {
   "cell_type": "code",
   "execution_count": null,
   "metadata": {
    "collapsed": true,
    "scrolled": true
   },
   "outputs": [],
   "source": [
    "process.start() # the script will block here until the crawling is finished"
   ]
  },
  {
   "cell_type": "code",
   "execution_count": null,
   "metadata": {
    "collapsed": true
   },
   "outputs": [],
   "source": []
  }
 ],
 "metadata": {
  "kernelspec": {
   "display_name": "Python 2",
   "language": "python",
   "name": "python2"
  },
  "language_info": {
   "codemirror_mode": {
    "name": "ipython",
    "version": 2
   },
   "file_extension": ".py",
   "mimetype": "text/x-python",
   "name": "python",
   "nbconvert_exporter": "python",
   "pygments_lexer": "ipython2",
   "version": "2.7.14"
  }
 },
 "nbformat": 4,
 "nbformat_minor": 2
}
