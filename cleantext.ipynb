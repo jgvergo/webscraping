{
 "cells": [
  {
   "cell_type": "code",
   "execution_count": 29,
   "metadata": {},
   "outputs": [],
   "source": [
    "import re, string, unicodedata\n",
    "import nltk\n",
    "import contractions\n",
    "import inflect\n",
    "from bs4 import BeautifulSoup\n",
    "from nltk import word_tokenize, sent_tokenize\n",
    "from nltk.corpus import stopwords\n",
    "from nltk.stem import LancasterStemmer, WordNetLemmatizer"
   ]
  },
  {
   "cell_type": "code",
   "execution_count": 30,
   "metadata": {
    "collapsed": true
   },
   "outputs": [],
   "source": [
    "sample = \"\"\"<h1>Title Goes Here</h1>\n",
    "<b>Bolded Text</b>\n",
    "<i>Italicized Text</i>\n",
    "<img src=\"this should all be gone\"/>\n",
    "<a href=\"this will be gone, too\">But this will still be here!</a>\n",
    "I run. He ran. She is running. Will they stop running?\n",
    "I talked. She was talking. They talked to them about running. Who ran to the talking runner?\n",
    "[Some text we don't want to keep is in here]\n",
    "¡Sebastián, Nicolás, Alejandro and Jéronimo are going to the store tomorrow morning!\n",
    "something... is! wrong() with.,; this :: sentence.\n",
    "I can't do this anymore. I didn't know them. Why couldn't you have dinner at the restaurant?\n",
    "My favorite movie franchises, in order: Indiana Jones; Marvel Cinematic Universe; Star Wars; Back to the Future; Harry Potter.\n",
    "Don't do it.... Just don't. Billy! I know what you're doing. This is a great little house you've got here.\n",
    "[This is some other unwanted text]\n",
    "John: \"Well, well, well.\"\n",
    "James: \"There, there. There, there.\"\n",
    "&nbsp;&nbsp;\n",
    "There are a lot of reasons not to do this. There are 101 reasons not to do it. 1000000 reasons, actually.\n",
    "I have to go get 2 tutus from 2 different stores, too.\n",
    "22    45   1067   445\n",
    "{{Here is some stuff inside of double curly braces.}}\n",
    "{Here is more stuff in single curly braces.}\n",
    "[DELETE]\n",
    "</body>\n",
    "</html>\"\"\""
   ]
  },
  {
   "cell_type": "code",
   "execution_count": 31,
   "metadata": {},
   "outputs": [],
   "source": [
    "def strip_html(text):\n",
    "    soup = BeautifulSoup(text, \"html.parser\")\n",
    "    return soup.get_text()\n",
    "\n",
    "def remove_between_square_brackets(text):\n",
    "    return re.sub('\\[[^]]*\\]', '', text)\n",
    "\n",
    "def denoise_text(text):\n",
    "    text = strip_html(text)\n",
    "    text = remove_between_square_brackets(text)\n",
    "    return text\n",
    "\n",
    "sample = denoise_text(sample)\n",
    "#sample"
   ]
  },
  {
   "cell_type": "code",
   "execution_count": 32,
   "metadata": {},
   "outputs": [],
   "source": [
    "def replace_contractions(text):\n",
    "    \"\"\"Replace contractions in string of text\"\"\"\n",
    "    return contractions.fix(text)\n",
    "\n",
    "sample = replace_contractions(sample)\n",
    "#sample"
   ]
  },
  {
   "cell_type": "code",
   "execution_count": 38,
   "metadata": {},
   "outputs": [
    {
     "data": {
      "text/plain": [
       "['Title Goes Here\\nBolded Text\\nItalicized Text\\n\\nBut this will still be here!',\n",
       " 'I run.',\n",
       " 'He ran.',\n",
       " 'She is running.',\n",
       " 'Will they stop running?',\n",
       " 'I talked.',\n",
       " 'She was talking.',\n",
       " 'They talked to them about running.',\n",
       " 'Who ran to the talking runner?',\n",
       " '¡Sebastián, Nicolás, Alejandro and Jéronimo are going to the store tomorrow morning!',\n",
       " 'something... is!',\n",
       " 'wrong() with.,; this :: sentence.',\n",
       " 'I cannot do this anymore.',\n",
       " 'I did not know them.',\n",
       " 'Why could not you have dinner at the restaurant?',\n",
       " 'My favorite movie franchises, in order: Indiana Jones; Marvel Cinematic Universe; Star Wars; Back to the Future; Harry Potter.',\n",
       " 'do not do it.... Just do not.',\n",
       " 'Billy!',\n",
       " 'I know what you are doing.',\n",
       " 'This is a great little house you have got here.',\n",
       " 'John: \"Well, well, well.\"',\n",
       " 'James: \"There, there.',\n",
       " 'There, there.\"',\n",
       " 'There are a lot of reasons not to do this.',\n",
       " 'There are 101 reasons not to do it.',\n",
       " '1000000 reasons, actually.',\n",
       " 'I have to go get 2 tutus from 2 different stores, too.',\n",
       " '22    45   1067   445\\n{{Here is some stuff inside of double curly braces.}}',\n",
       " '{Here is more stuff in single curly braces.}']"
      ]
     },
     "execution_count": 38,
     "metadata": {},
     "output_type": "execute_result"
    }
   ],
   "source": [
    "#words = nltk.word_tokenize(sample)\n",
    "\n",
    "sentences = nltk.sent_tokenize(sample)\n",
    "sentences"
   ]
  },
  {
   "cell_type": "code",
   "execution_count": 39,
   "metadata": {},
   "outputs": [],
   "source": [
    "def remove_non_ascii(words):\n",
    "    \"\"\"Remove non-ASCII characters from list of tokenized words\"\"\"\n",
    "    new_words = []\n",
    "    for word in words:\n",
    "        new_word = unicodedata.normalize('NFKD', word).encode('ascii', 'ignore').decode('utf-8', 'ignore')\n",
    "        new_words.append(new_word)\n",
    "    return new_words\n",
    "\n",
    "def to_lowercase(words):\n",
    "    \"\"\"Convert all characters to lowercase from list of tokenized words\"\"\"\n",
    "    new_words = []\n",
    "    for word in words:\n",
    "        new_word = word.lower()\n",
    "        new_words.append(new_word)\n",
    "    return new_words\n",
    "\n",
    "def remove_punctuation(words):\n",
    "    \"\"\"Remove punctuation from list of tokenized words\"\"\"\n",
    "    new_words = []\n",
    "    for word in words:\n",
    "        new_word = re.sub(r'[^\\w\\s]', '', word)\n",
    "        if new_word != '':\n",
    "            new_words.append(new_word)\n",
    "    return new_words\n",
    "\n",
    "def replace_numbers(words):\n",
    "    \"\"\"Replace all interger occurrences in list of tokenized words with textual representation\"\"\"\n",
    "    p = inflect.engine()\n",
    "    new_words = []\n",
    "    for word in words:\n",
    "        if word.isdigit():\n",
    "            new_word = p.number_to_words(word)\n",
    "            new_words.append(new_word)\n",
    "        else:\n",
    "            new_words.append(word)\n",
    "    return new_words\n",
    "\n",
    "def remove_stopwords(words):\n",
    "    \"\"\"Remove stop words from list of tokenized words\"\"\"\n",
    "    new_words = []\n",
    "    for word in words:\n",
    "        if word not in stopwords.words('english'):\n",
    "            new_words.append(word)\n",
    "    return new_words\n",
    "\n",
    "def stem_words(words):\n",
    "    \"\"\"Stem words in list of tokenized words\"\"\"\n",
    "    stemmer = LancasterStemmer()\n",
    "    stems = []\n",
    "    for word in words:\n",
    "        stem = stemmer.stem(word)\n",
    "        stems.append(stem)\n",
    "    return stems\n",
    "\n",
    "def lemmatize_verbs(words):\n",
    "    \"\"\"Lemmatize verbs in list of tokenized words\"\"\"\n",
    "    lemmatizer = WordNetLemmatizer()\n",
    "    lemmas = []\n",
    "    for word in words:\n",
    "        lemma = lemmatizer.lemmatize(word, pos='v')\n",
    "        lemmas.append(lemma)\n",
    "    return lemmas\n",
    "\n",
    "def normalize(words):\n",
    "    words = remove_non_ascii(words)\n",
    "    words = to_lowercase(words)\n",
    "    words = remove_punctuation(words)\n",
    "    words = replace_numbers(words)\n",
    "    words = remove_stopwords(words)\n",
    "    return words\n",
    "\n"
   ]
  },
  {
   "cell_type": "code",
   "execution_count": 42,
   "metadata": {},
   "outputs": [
    {
     "data": {
      "text/plain": [
       "['title goes here\\nbolded text\\nitalicized text\\n\\nbut this will still be here',\n",
       " 'i run',\n",
       " 'he ran',\n",
       " 'she is running',\n",
       " 'will they stop running',\n",
       " 'i talked',\n",
       " 'she was talking',\n",
       " 'they talked to them about running',\n",
       " 'who ran to the talking runner',\n",
       " 'sebastian nicolas alejandro and jeronimo are going to the store tomorrow morning',\n",
       " 'something is',\n",
       " 'wrong with this  sentence',\n",
       " 'i cannot do this anymore',\n",
       " 'i did not know them',\n",
       " 'why could not you have dinner at the restaurant',\n",
       " 'my favorite movie franchises in order indiana jones marvel cinematic universe star wars back to the future harry potter',\n",
       " 'do not do it just do not',\n",
       " 'billy',\n",
       " 'i know what you are doing',\n",
       " 'this is a great little house you have got here',\n",
       " 'john well well well',\n",
       " 'james there there',\n",
       " 'there there',\n",
       " 'there are a lot of reasons not to do this',\n",
       " 'there are 101 reasons not to do it',\n",
       " '1000000 reasons actually',\n",
       " 'i have to go get 2 tutus from 2 different stores too',\n",
       " '22    45   1067   445\\nhere is some stuff inside of double curly braces',\n",
       " 'here is more stuff in single curly braces']"
      ]
     },
     "execution_count": 42,
     "metadata": {},
     "output_type": "execute_result"
    }
   ],
   "source": [
    "sentences = normalize(sentences)\n",
    "sentences"
   ]
  },
  {
   "cell_type": "code",
   "execution_count": 34,
   "metadata": {},
   "outputs": [
    {
     "data": {
      "text/plain": [
       "['Title Goes Here\\nBolded Text\\nItalicized Text\\n\\nBut this will still be here!',\n",
       " 'I run.',\n",
       " 'He ran.',\n",
       " 'She is running.',\n",
       " 'Will they stop running?',\n",
       " 'I talked.',\n",
       " 'She was talking.',\n",
       " 'They talked to them about running.',\n",
       " 'Who ran to the talking runner?',\n",
       " '¡Sebastián, Nicolás, Alejandro and Jéronimo are going to the store tomorrow morning!',\n",
       " 'something... is!',\n",
       " 'wrong() with.,; this :: sentence.',\n",
       " 'I cannot do this anymore.',\n",
       " 'I did not know them.',\n",
       " 'Why could not you have dinner at the restaurant?',\n",
       " 'My favorite movie franchises, in order: Indiana Jones; Marvel Cinematic Universe; Star Wars; Back to the Future; Harry Potter.',\n",
       " 'do not do it.... Just do not.',\n",
       " 'Billy!',\n",
       " 'I know what you are doing.',\n",
       " 'This is a great little house you have got here.',\n",
       " 'John: \"Well, well, well.\"',\n",
       " 'James: \"There, there.',\n",
       " 'There, there.\"',\n",
       " 'There are a lot of reasons not to do this.',\n",
       " 'There are 101 reasons not to do it.',\n",
       " '1000000 reasons, actually.',\n",
       " 'I have to go get 2 tutus from 2 different stores, too.',\n",
       " '22    45   1067   445\\n{{Here is some stuff inside of double curly braces.}}',\n",
       " '{Here is more stuff in single curly braces.}']"
      ]
     },
     "execution_count": 34,
     "metadata": {},
     "output_type": "execute_result"
    }
   ],
   "source": [
    "def stem_and_lemmatize(sentences):\n",
    "    stems = stem_words(sentences)\n",
    "    lemmas = lemmatize_verbs(sentences)\n",
    "    return stems, lemmas\n",
    "\n",
    "stems, lemmas = stem_and_lemmatize(sentences)\n",
    "stems\n",
    "lemmas"
   ]
  },
  {
   "cell_type": "code",
   "execution_count": null,
   "metadata": {
    "collapsed": true
   },
   "outputs": [],
   "source": []
  }
 ],
 "metadata": {
  "kernelspec": {
   "display_name": "Python 3",
   "language": "python",
   "name": "python3"
  },
  "language_info": {
   "codemirror_mode": {
    "name": "ipython",
    "version": 3
   },
   "file_extension": ".py",
   "mimetype": "text/x-python",
   "name": "python",
   "nbconvert_exporter": "python",
   "pygments_lexer": "ipython3",
   "version": "3.6.3"
  }
 },
 "nbformat": 4,
 "nbformat_minor": 2
}
